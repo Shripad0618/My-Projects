{
 "cells": [
  {
   "cell_type": "code",
   "execution_count": 17,
   "metadata": {},
   "outputs": [],
   "source": [
    "import requests\n",
    "from bs4 import BeautifulSoup"
   ]
  },
  {
   "cell_type": "markdown",
   "metadata": {},
   "source": [
    "# Extracting stock data from webull.com "
   ]
  },
  {
   "cell_type": "code",
   "execution_count": 3,
   "metadata": {},
   "outputs": [],
   "source": [
    "url=requests.get(\"https://www.webull.com/quote\")"
   ]
  },
  {
   "cell_type": "markdown",
   "metadata": {},
   "source": [
    "### Webull Financial LLC, commonly known as Webull, is a financial services company. It provides trading services for stocks, ETFs and other options"
   ]
  },
  {
   "cell_type": "code",
   "execution_count": 4,
   "metadata": {},
   "outputs": [],
   "source": [
    "soup=BeautifulSoup(url.text,'html.parser')\n",
    "results= soup.find_all('div',attrs={'class':'jss1hwexjh jss1xzvfe6 jss1xypxds jss1jhcjls'})"
   ]
  },
  {
   "cell_type": "code",
   "execution_count": 5,
   "metadata": {},
   "outputs": [],
   "source": [
    "x=results[0].find_all('span')"
   ]
  },
  {
   "cell_type": "code",
   "execution_count": 6,
   "metadata": {},
   "outputs": [],
   "source": [
    "records=[]\n",
    "for i in results:\n",
    "    Symbol=i.find('a').text\n",
    "    All_price=i.find_all('span')\n",
    "    Last_price=All_price[0].text\n",
    "    Change=All_price[1].text\n",
    "    change_percent=All_price[2].text\n",
    "    records.append((Symbol,Last_price,Change,change_percent))"
   ]
  },
  {
   "cell_type": "code",
   "execution_count": 7,
   "metadata": {},
   "outputs": [],
   "source": [
    "import pandas as pd\n",
    "df_all=pd.DataFrame(records,columns=['Symbol',\"Last_price\",\"Change\",\"change_percent\"])"
   ]
  },
  {
   "cell_type": "code",
   "execution_count": 8,
   "metadata": {},
   "outputs": [],
   "source": [
    "Ext_hours_Ranking=df_all[0:7]\n",
    "Top_Gainers=df_all[7:14].reset_index(drop=True)\n",
    "Top_Losers=df_all[14:21].reset_index(drop=True)\n",
    "Most_active=df_all[21:29].reset_index(drop=True)\n"
   ]
  },
  {
   "cell_type": "raw",
   "metadata": {},
   "source": [
    "Investors at WeBull have access not just to the regular session (from 9:30 am until 4 pm, EST) but to extended hours as well.These extended hours stock are commnely called as Extended Hours Ranking"
   ]
  },
  {
   "cell_type": "code",
   "execution_count": 14,
   "metadata": {},
   "outputs": [
    {
     "name": "stdout",
     "output_type": "stream",
     "text": [
      "---------- Extended Hours Ranking ----------\n"
     ]
    },
    {
     "data": {
      "text/html": [
       "<div>\n",
       "<style scoped>\n",
       "    .dataframe tbody tr th:only-of-type {\n",
       "        vertical-align: middle;\n",
       "    }\n",
       "\n",
       "    .dataframe tbody tr th {\n",
       "        vertical-align: top;\n",
       "    }\n",
       "\n",
       "    .dataframe thead th {\n",
       "        text-align: right;\n",
       "    }\n",
       "</style>\n",
       "<table border=\"1\" class=\"dataframe\">\n",
       "  <thead>\n",
       "    <tr style=\"text-align: right;\">\n",
       "      <th></th>\n",
       "      <th>Symbol</th>\n",
       "      <th>Last_price</th>\n",
       "      <th>Change</th>\n",
       "      <th>change_percent</th>\n",
       "    </tr>\n",
       "  </thead>\n",
       "  <tbody>\n",
       "    <tr>\n",
       "      <th>0</th>\n",
       "      <td>CETXW</td>\n",
       "      <td>0.1801</td>\n",
       "      <td>+0.0101</td>\n",
       "      <td>+50.47%</td>\n",
       "    </tr>\n",
       "    <tr>\n",
       "      <th>1</th>\n",
       "      <td>CETX</td>\n",
       "      <td>2.080</td>\n",
       "      <td>+0.21</td>\n",
       "      <td>+23.08%</td>\n",
       "    </tr>\n",
       "    <tr>\n",
       "      <th>2</th>\n",
       "      <td>FMAC WS</td>\n",
       "      <td>1.920</td>\n",
       "      <td>-0.13</td>\n",
       "      <td>+22.92%</td>\n",
       "    </tr>\n",
       "    <tr>\n",
       "      <th>3</th>\n",
       "      <td>RCHGW</td>\n",
       "      <td>0.9901</td>\n",
       "      <td>+0.0001</td>\n",
       "      <td>+20.19%</td>\n",
       "    </tr>\n",
       "    <tr>\n",
       "      <th>4</th>\n",
       "      <td>ZGYHR</td>\n",
       "      <td>0.3649</td>\n",
       "      <td>-0.0351</td>\n",
       "      <td>+20.03%</td>\n",
       "    </tr>\n",
       "    <tr>\n",
       "      <th>5</th>\n",
       "      <td>USAT</td>\n",
       "      <td>12.26</td>\n",
       "      <td>+0.31</td>\n",
       "      <td>+19.25%</td>\n",
       "    </tr>\n",
       "    <tr>\n",
       "      <th>6</th>\n",
       "      <td>DSWL</td>\n",
       "      <td>3.600</td>\n",
       "      <td>-0.01</td>\n",
       "      <td>+16.67%</td>\n",
       "    </tr>\n",
       "  </tbody>\n",
       "</table>\n",
       "</div>"
      ],
      "text/plain": [
       "    Symbol Last_price   Change change_percent\n",
       "0    CETXW     0.1801  +0.0101        +50.47%\n",
       "1     CETX      2.080    +0.21        +23.08%\n",
       "2  FMAC WS      1.920    -0.13        +22.92%\n",
       "3    RCHGW     0.9901  +0.0001        +20.19%\n",
       "4    ZGYHR     0.3649  -0.0351        +20.03%\n",
       "5     USAT      12.26    +0.31        +19.25%\n",
       "6     DSWL      3.600    -0.01        +16.67%"
      ]
     },
     "execution_count": 14,
     "metadata": {},
     "output_type": "execute_result"
    }
   ],
   "source": [
    "print(\"-\"*10,\"Extended Hours Ranking\",\"-\"*10)\n",
    "Ext_hours_Ranking"
   ]
  },
  {
   "cell_type": "code",
   "execution_count": 15,
   "metadata": {},
   "outputs": [
    {
     "name": "stdout",
     "output_type": "stream",
     "text": [
      "---------- The Top Gainers in Trade ----------\n"
     ]
    },
    {
     "data": {
      "text/html": [
       "<div>\n",
       "<style scoped>\n",
       "    .dataframe tbody tr th:only-of-type {\n",
       "        vertical-align: middle;\n",
       "    }\n",
       "\n",
       "    .dataframe tbody tr th {\n",
       "        vertical-align: top;\n",
       "    }\n",
       "\n",
       "    .dataframe thead th {\n",
       "        text-align: right;\n",
       "    }\n",
       "</style>\n",
       "<table border=\"1\" class=\"dataframe\">\n",
       "  <thead>\n",
       "    <tr style=\"text-align: right;\">\n",
       "      <th></th>\n",
       "      <th>Symbol</th>\n",
       "      <th>Last_price</th>\n",
       "      <th>Change</th>\n",
       "      <th>change_percent</th>\n",
       "    </tr>\n",
       "  </thead>\n",
       "  <tbody>\n",
       "    <tr>\n",
       "      <th>0</th>\n",
       "      <td>JUPWW</td>\n",
       "      <td>1.900</td>\n",
       "      <td>+1.08</td>\n",
       "      <td>+131.70%</td>\n",
       "    </tr>\n",
       "    <tr>\n",
       "      <th>1</th>\n",
       "      <td>XBIOW</td>\n",
       "      <td>5.85</td>\n",
       "      <td>+2.45</td>\n",
       "      <td>+72.06%</td>\n",
       "    </tr>\n",
       "    <tr>\n",
       "      <th>2</th>\n",
       "      <td>SPCB</td>\n",
       "      <td>2.240</td>\n",
       "      <td>+0.79</td>\n",
       "      <td>+54.48%</td>\n",
       "    </tr>\n",
       "    <tr>\n",
       "      <th>3</th>\n",
       "      <td>CLVS</td>\n",
       "      <td>7.86</td>\n",
       "      <td>+2.54</td>\n",
       "      <td>+47.74%</td>\n",
       "    </tr>\n",
       "    <tr>\n",
       "      <th>4</th>\n",
       "      <td>HOFV</td>\n",
       "      <td>4.000</td>\n",
       "      <td>+1.27</td>\n",
       "      <td>+46.52%</td>\n",
       "    </tr>\n",
       "    <tr>\n",
       "      <th>5</th>\n",
       "      <td>FHTX</td>\n",
       "      <td>16.12</td>\n",
       "      <td>+4.32</td>\n",
       "      <td>+36.61%</td>\n",
       "    </tr>\n",
       "    <tr>\n",
       "      <th>6</th>\n",
       "      <td>SNES</td>\n",
       "      <td>2.270</td>\n",
       "      <td>+0.59</td>\n",
       "      <td>+35.12%</td>\n",
       "    </tr>\n",
       "  </tbody>\n",
       "</table>\n",
       "</div>"
      ],
      "text/plain": [
       "  Symbol Last_price Change change_percent\n",
       "0  JUPWW      1.900  +1.08       +131.70%\n",
       "1  XBIOW       5.85  +2.45        +72.06%\n",
       "2   SPCB      2.240  +0.79        +54.48%\n",
       "3   CLVS       7.86  +2.54        +47.74%\n",
       "4   HOFV      4.000  +1.27        +46.52%\n",
       "5   FHTX      16.12  +4.32        +36.61%\n",
       "6   SNES      2.270  +0.59        +35.12%"
      ]
     },
     "execution_count": 15,
     "metadata": {},
     "output_type": "execute_result"
    }
   ],
   "source": [
    "print(\"-\"*10,\"The Top Gainers in Trade\",\"-\"*10)\n",
    "Top_Gainers"
   ]
  },
  {
   "cell_type": "code",
   "execution_count": 16,
   "metadata": {},
   "outputs": [
    {
     "name": "stdout",
     "output_type": "stream",
     "text": [
      "---------- The Top Losers in Trade ----------\n"
     ]
    },
    {
     "data": {
      "text/html": [
       "<div>\n",
       "<style scoped>\n",
       "    .dataframe tbody tr th:only-of-type {\n",
       "        vertical-align: middle;\n",
       "    }\n",
       "\n",
       "    .dataframe tbody tr th {\n",
       "        vertical-align: top;\n",
       "    }\n",
       "\n",
       "    .dataframe thead th {\n",
       "        text-align: right;\n",
       "    }\n",
       "</style>\n",
       "<table border=\"1\" class=\"dataframe\">\n",
       "  <thead>\n",
       "    <tr style=\"text-align: right;\">\n",
       "      <th></th>\n",
       "      <th>Symbol</th>\n",
       "      <th>Last_price</th>\n",
       "      <th>Change</th>\n",
       "      <th>change_percent</th>\n",
       "    </tr>\n",
       "  </thead>\n",
       "  <tbody>\n",
       "    <tr>\n",
       "      <th>0</th>\n",
       "      <td>IDRA</td>\n",
       "      <td>1.980</td>\n",
       "      <td>-3.23</td>\n",
       "      <td>-62.00%</td>\n",
       "    </tr>\n",
       "    <tr>\n",
       "      <th>1</th>\n",
       "      <td>MRACW</td>\n",
       "      <td>1.300</td>\n",
       "      <td>-0.39</td>\n",
       "      <td>-23.08%</td>\n",
       "    </tr>\n",
       "    <tr>\n",
       "      <th>2</th>\n",
       "      <td>NUZE</td>\n",
       "      <td>4.010</td>\n",
       "      <td>-1.09</td>\n",
       "      <td>-21.37%</td>\n",
       "    </tr>\n",
       "    <tr>\n",
       "      <th>3</th>\n",
       "      <td>ENTXW</td>\n",
       "      <td>0.5800</td>\n",
       "      <td>-0.1538</td>\n",
       "      <td>-20.95%</td>\n",
       "    </tr>\n",
       "    <tr>\n",
       "      <th>4</th>\n",
       "      <td>NGAB WS</td>\n",
       "      <td>1.510</td>\n",
       "      <td>-0.39</td>\n",
       "      <td>-20.53%</td>\n",
       "    </tr>\n",
       "    <tr>\n",
       "      <th>5</th>\n",
       "      <td>AMHCW</td>\n",
       "      <td>1.030</td>\n",
       "      <td>-0.25</td>\n",
       "      <td>-19.55%</td>\n",
       "    </tr>\n",
       "    <tr>\n",
       "      <th>6</th>\n",
       "      <td>TDW WS</td>\n",
       "      <td>0.4300</td>\n",
       "      <td>-0.1009</td>\n",
       "      <td>-19.01%</td>\n",
       "    </tr>\n",
       "  </tbody>\n",
       "</table>\n",
       "</div>"
      ],
      "text/plain": [
       "    Symbol Last_price   Change change_percent\n",
       "0     IDRA      1.980    -3.23        -62.00%\n",
       "1    MRACW      1.300    -0.39        -23.08%\n",
       "2     NUZE      4.010    -1.09        -21.37%\n",
       "3    ENTXW     0.5800  -0.1538        -20.95%\n",
       "4  NGAB WS      1.510    -0.39        -20.53%\n",
       "5    AMHCW      1.030    -0.25        -19.55%\n",
       "6   TDW WS     0.4300  -0.1009        -19.01%"
      ]
     },
     "execution_count": 16,
     "metadata": {},
     "output_type": "execute_result"
    }
   ],
   "source": [
    "print(\"-\"*10,\"The Top Losers in Trade\",\"-\"*10)\n",
    "Top_Losers"
   ]
  },
  {
   "cell_type": "code",
   "execution_count": 12,
   "metadata": {},
   "outputs": [
    {
     "data": {
      "text/html": [
       "<div>\n",
       "<style scoped>\n",
       "    .dataframe tbody tr th:only-of-type {\n",
       "        vertical-align: middle;\n",
       "    }\n",
       "\n",
       "    .dataframe tbody tr th {\n",
       "        vertical-align: top;\n",
       "    }\n",
       "\n",
       "    .dataframe thead th {\n",
       "        text-align: right;\n",
       "    }\n",
       "</style>\n",
       "<table border=\"1\" class=\"dataframe\">\n",
       "  <thead>\n",
       "    <tr style=\"text-align: right;\">\n",
       "      <th></th>\n",
       "      <th>Symbol</th>\n",
       "      <th>Last_price</th>\n",
       "      <th>Change</th>\n",
       "      <th>change_percent</th>\n",
       "    </tr>\n",
       "  </thead>\n",
       "  <tbody>\n",
       "    <tr>\n",
       "      <th>0</th>\n",
       "      <td>CLVS</td>\n",
       "      <td>331.76M</td>\n",
       "      <td>+2.54</td>\n",
       "      <td>+47.74%</td>\n",
       "    </tr>\n",
       "    <tr>\n",
       "      <th>1</th>\n",
       "      <td>SNDL</td>\n",
       "      <td>208.75M</td>\n",
       "      <td>+0.03</td>\n",
       "      <td>+2.05%</td>\n",
       "    </tr>\n",
       "    <tr>\n",
       "      <th>2</th>\n",
       "      <td>HOFV</td>\n",
       "      <td>201.62M</td>\n",
       "      <td>+1.27</td>\n",
       "      <td>+46.52%</td>\n",
       "    </tr>\n",
       "    <tr>\n",
       "      <th>3</th>\n",
       "      <td>AAPL</td>\n",
       "      <td>185.55M</td>\n",
       "      <td>-0.54</td>\n",
       "      <td>-0.45%</td>\n",
       "    </tr>\n",
       "    <tr>\n",
       "      <th>4</th>\n",
       "      <td>AMC</td>\n",
       "      <td>153.21M</td>\n",
       "      <td>-0.07</td>\n",
       "      <td>-0.50%</td>\n",
       "    </tr>\n",
       "    <tr>\n",
       "      <th>5</th>\n",
       "      <td>SPCB</td>\n",
       "      <td>145.70M</td>\n",
       "      <td>+0.79</td>\n",
       "      <td>+54.48%</td>\n",
       "    </tr>\n",
       "    <tr>\n",
       "      <th>6</th>\n",
       "      <td>ZOM</td>\n",
       "      <td>112.70M</td>\n",
       "      <td>+0.05</td>\n",
       "      <td>+2.38%</td>\n",
       "    </tr>\n",
       "  </tbody>\n",
       "</table>\n",
       "</div>"
      ],
      "text/plain": [
       "  Symbol Last_price Change change_percent\n",
       "0   CLVS    331.76M  +2.54        +47.74%\n",
       "1   SNDL    208.75M  +0.03         +2.05%\n",
       "2   HOFV    201.62M  +1.27        +46.52%\n",
       "3   AAPL    185.55M  -0.54         -0.45%\n",
       "4    AMC    153.21M  -0.07         -0.50%\n",
       "5   SPCB    145.70M  +0.79        +54.48%\n",
       "6    ZOM    112.70M  +0.05         +2.38%"
      ]
     },
     "execution_count": 12,
     "metadata": {},
     "output_type": "execute_result"
    }
   ],
   "source": [
    "print(\"-\"*10,\"The Most Active Trade\",\"-\"*10)\n",
    "Most_active"
   ]
  },
  {
   "cell_type": "code",
   "execution_count": null,
   "metadata": {},
   "outputs": [],
   "source": []
  },
  {
   "cell_type": "code",
   "execution_count": null,
   "metadata": {},
   "outputs": [],
   "source": []
  },
  {
   "cell_type": "code",
   "execution_count": null,
   "metadata": {},
   "outputs": [],
   "source": []
  },
  {
   "cell_type": "code",
   "execution_count": null,
   "metadata": {},
   "outputs": [],
   "source": []
  },
  {
   "cell_type": "code",
   "execution_count": null,
   "metadata": {},
   "outputs": [],
   "source": []
  },
  {
   "cell_type": "code",
   "execution_count": null,
   "metadata": {},
   "outputs": [],
   "source": []
  },
  {
   "cell_type": "code",
   "execution_count": null,
   "metadata": {},
   "outputs": [],
   "source": []
  },
  {
   "cell_type": "code",
   "execution_count": null,
   "metadata": {},
   "outputs": [],
   "source": []
  },
  {
   "cell_type": "code",
   "execution_count": null,
   "metadata": {},
   "outputs": [],
   "source": []
  },
  {
   "cell_type": "code",
   "execution_count": null,
   "metadata": {},
   "outputs": [],
   "source": []
  },
  {
   "cell_type": "code",
   "execution_count": null,
   "metadata": {},
   "outputs": [],
   "source": []
  },
  {
   "cell_type": "code",
   "execution_count": null,
   "metadata": {},
   "outputs": [],
   "source": []
  },
  {
   "cell_type": "code",
   "execution_count": null,
   "metadata": {},
   "outputs": [],
   "source": []
  }
 ],
 "metadata": {
  "kernelspec": {
   "display_name": "Python 3",
   "language": "python",
   "name": "python3"
  },
  "language_info": {
   "codemirror_mode": {
    "name": "ipython",
    "version": 3
   },
   "file_extension": ".py",
   "mimetype": "text/x-python",
   "name": "python",
   "nbconvert_exporter": "python",
   "pygments_lexer": "ipython3",
   "version": "3.8.5"
  }
 },
 "nbformat": 4,
 "nbformat_minor": 4
}
